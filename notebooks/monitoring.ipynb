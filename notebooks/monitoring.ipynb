{
 "cells": [
  {
   "cell_type": "code",
   "execution_count": 0,
   "metadata": {
    "application/vnd.databricks.v1+cell": {
     "cellMetadata": {
      "byteLimit": 2048000,
      "implicitDf": true,
      "rowLimit": 10000
     },
     "inputWidgets": {},
     "nuid": "435e1119-ac39-4509-b6ba-2acebf4fa6e5",
     "showTitle": false,
     "tableResultSettingsMap": {},
     "title": ""
    }
   },
   "outputs": [],
   "source": [
    "%sql CREATE SCHEMA IF NOT EXISTS retail_migration.monitoring;"
   ]
  },
  {
   "cell_type": "code",
   "execution_count": 0,
   "metadata": {
    "application/vnd.databricks.v1+cell": {
     "cellMetadata": {
      "byteLimit": 2048000,
      "rowLimit": 10000
     },
     "inputWidgets": {},
     "nuid": "a62fedf9-c25c-4f5a-9160-eb542dd9c62b",
     "showTitle": false,
     "tableResultSettingsMap": {},
     "title": ""
    }
   },
   "outputs": [],
   "source": [
    "from pyspark.sql import SparkSession, functions as F\n",
    "import uuid\n",
    "import time\n",
    "\n",
    "spark = SparkSession.builder.getOrCreate()\n",
    "# Define source and target catalogs\n",
    "source_catalog = \"samples.tpch\"\n",
    "\n",
    "# Get all tables except internal ones\n",
    "tables = [t.name for t in spark.catalog.listTables(source_catalog) if not t.name.startswith(\"_\")]\n",
    "print(\"Tables to validate:\", tables)\n",
    "\n",
    "# Create monitoring table if it doesn't exist\n",
    "spark.sql(\"\"\"\n",
    "CREATE TABLE IF NOT EXISTS retail_migration.monitoring.validation_results (\n",
    "    table_name STRING,\n",
    "    bronze_count BIGINT,\n",
    "    silver_count BIGINT,\n",
    "    match BOOLEAN,\n",
    "    validation_time TIMESTAMP\n",
    ")\n",
    "\"\"\")\n",
    "\n",
    "# Validate row counts between bronze and silver layers\n",
    "from pyspark.sql import Row\n",
    "from datetime import datetime\n",
    "\n",
    "results = []\n",
    "\n",
    "for t in tables:\n",
    "    bronze_count = spark.table(f\"retail_migration.bronze.{t}\").count()\n",
    "    silver_count = spark.table(f\"retail_migration.silver.{t}\").count()\n",
    "    match = bronze_count == silver_count\n",
    "    print(f\"{t}: bronze={bronze_count}, silver={silver_count}, match={match}\")\n",
    "    results.append(Row(table_name=t, bronze_count=bronze_count, silver_count=silver_count,\n",
    "                       match=match, validation_time=datetime.now()))\n",
    "\n",
    "# Save results into the monitoring table\n",
    "spark.createDataFrame(results).write.mode(\"append\").saveAsTable(\"retail_migration.monitoring.validation_results\")\n",
    "\n",
    "# Optional: view results\n",
    "display(spark.table(\"retail_migration.monitoring.validation_results\").orderBy(\"validation_time\", ascending=False))\n"
   ]
  },
  {
   "cell_type": "markdown",
   "metadata": {
    "application/vnd.databricks.v1+cell": {
     "cellMetadata": {},
     "inputWidgets": {},
     "nuid": "40ef7180-5ef4-479d-853a-23e1cef77006",
     "showTitle": false,
     "tableResultSettingsMap": {},
     "title": ""
    }
   },
   "source": [
    "**Приклад оновлення властивостей для таблиці silver.orders**"
   ]
  },
  {
   "cell_type": "code",
   "execution_count": 0,
   "metadata": {
    "application/vnd.databricks.v1+cell": {
     "cellMetadata": {
      "byteLimit": 2048000,
      "implicitDf": true,
      "rowLimit": 10000
     },
     "inputWidgets": {},
     "nuid": "3eb3a819-9646-4a43-9b0d-5175d7bdcb13",
     "showTitle": false,
     "tableResultSettingsMap": {},
     "title": ""
    }
   },
   "outputs": [],
   "source": [
    "from pyspark.sql import SparkSession\n",
    "\n",
    "spark = SparkSession.builder.getOrCreate()\n",
    "\n",
    "# --- collect dynamic info ---\n",
    "row_count = spark.sql(\"SELECT COUNT(*) AS c FROM retail_migration.bronze.orders\").collect()[0].c\n",
    "timestamp = spark.sql(\"SELECT current_timestamp() AS ts\").collect()[0].ts\n",
    "user = spark.sql(\"SELECT current_user() AS u\").collect()[0].u\n",
    "\n",
    "ctx = dbutils.notebook.entry_point.getDbutils().notebook().getContext()\n",
    "\n",
    "def safe_get(attr):\n",
    "    \"\"\"Safely extract Databricks context attributes.\"\"\"\n",
    "    try:\n",
    "        val = getattr(ctx, attr)().get()\n",
    "        return val if val else None\n",
    "    except Exception:\n",
    "        return None\n",
    "\n",
    "job_id = safe_get(\"jobId\")\n",
    "job_run_id = safe_get(\"jobRunId\") or safe_get(\"runId\")  # fallback if older runtime\n",
    "\n",
    "if job_id:\n",
    "    last_updated_by = f\"Job {job_id} (Run {job_run_id}), User {user}\"\n",
    "else:\n",
    "    last_updated_by = f\"User {user}\"\n",
    "\n",
    "# --- set table properties ---\n",
    "spark.sql(f\"\"\"\n",
    "ALTER TABLE retail_migration.silver.orders SET TBLPROPERTIES (\n",
    "  'last_updated_at' = '{timestamp}',\n",
    "  'last_updated_by' = '{last_updated_by}',\n",
    "  'source_row_count' = '{row_count}'\n",
    ")\n",
    "\"\"\")\n",
    "\n",
    "print(f\"Metadata updated successfully:\")\n",
    "print(f\"   last_updated_at = {timestamp}\")\n",
    "print(f\"   last_updated_by = {last_updated_by}\")\n",
    "print(f\"   source_row_count = {row_count}\")\n"
   ]
  }
 ],
 "metadata": {
  "application/vnd.databricks.v1+notebook": {
   "computePreferences": null,
   "dashboards": [],
   "environmentMetadata": {
    "base_environment": "",
    "environment_version": "3"
   },
   "inputWidgetPreferences": null,
   "language": "python",
   "notebookMetadata": {
    "mostRecentlyExecutedCommandWithImplicitDF": {
     "commandId": -1,
     "dataframes": [
      "_sqldf"
     ]
    },
    "pythonIndentUnit": 4
   },
   "notebookName": "monitoring",
   "widgets": {}
  },
  "language_info": {
   "name": "python"
  }
 },
 "nbformat": 4,
 "nbformat_minor": 0
}
