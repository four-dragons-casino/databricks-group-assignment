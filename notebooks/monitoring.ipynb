{
 "cells": [
  {
   "cell_type": "code",
   "execution_count": 0,
   "metadata": {
    "application/vnd.databricks.v1+cell": {
     "cellMetadata": {
      "byteLimit": 2048000,
      "implicitDf": true,
      "rowLimit": 10000
     },
     "inputWidgets": {},
     "nuid": "435e1119-ac39-4509-b6ba-2acebf4fa6e5",
     "showTitle": false,
     "tableResultSettingsMap": {},
     "title": ""
    }
   },
   "outputs": [],
   "source": [
    "%sql CREATE SCHEMA IF NOT EXISTS retail_migration.monitoring;"
   ]
  },
  {
   "cell_type": "code",
   "execution_count": 0,
   "metadata": {
    "application/vnd.databricks.v1+cell": {
     "cellMetadata": {
      "byteLimit": 2048000,
      "rowLimit": 10000
     },
     "inputWidgets": {},
     "nuid": "a62fedf9-c25c-4f5a-9160-eb542dd9c62b",
     "showTitle": false,
     "tableResultSettingsMap": {},
     "title": ""
    }
   },
   "outputs": [],
   "source": [
    "from pyspark.sql import SparkSession, functions as F\n",
    "import uuid\n",
    "import time\n",
    "\n",
    "spark = SparkSession.builder.getOrCreate()\n",
    "# Define source and target catalogs\n",
    "source_catalog = \"samples.tpch\"\n",
    "\n",
    "# Get all tables except internal ones\n",
    "tables = [t.name for t in spark.catalog.listTables(source_catalog) if not t.name.startswith(\"_\")]\n",
    "print(\"Tables to validate:\", tables)\n",
    "\n",
    "# Create monitoring table if it doesn't exist\n",
    "spark.sql(\"\"\"\n",
    "CREATE TABLE IF NOT EXISTS retail_migration.monitoring.validation_results (\n",
    "    table_name STRING,\n",
    "    bronze_count BIGINT,\n",
    "    silver_count BIGINT,\n",
    "    match BOOLEAN,\n",
    "    validation_time TIMESTAMP\n",
    ")\n",
    "\"\"\")\n",
    "\n",
    "# Validate row counts between bronze and silver layers\n",
    "from pyspark.sql import Row\n",
    "from datetime import datetime\n",
    "\n",
    "results = []\n",
    "\n",
    "for t in tables:\n",
    "    bronze_count = spark.table(f\"retail_migration.bronze.{t}\").count()\n",
    "    silver_count = spark.table(f\"retail_migration.silver.{t}\").count()\n",
    "    match = bronze_count == silver_count\n",
    "    print(f\"{t}: bronze={bronze_count}, silver={silver_count}, match={match}\")\n",
    "    results.append(Row(table_name=t, bronze_count=bronze_count, silver_count=silver_count,\n",
    "                       match=match, validation_time=datetime.now()))\n",
    "\n",
    "# Save results into the monitoring table\n",
    "spark.createDataFrame(results).write.mode(\"append\").saveAsTable(\"retail_migration.monitoring.validation_results\")\n",
    "\n",
    "# Optional: view results\n",
    "display(spark.table(\"retail_migration.monitoring.validation_results\").orderBy(\"validation_time\", ascending=False))\n"
   ]
  }
 ],
 "metadata": {
  "application/vnd.databricks.v1+notebook": {
   "computePreferences": null,
   "dashboards": [],
   "environmentMetadata": {
    "base_environment": "",
    "environment_version": "3"
   },
   "inputWidgetPreferences": null,
   "language": "python",
   "notebookMetadata": {
    "mostRecentlyExecutedCommandWithImplicitDF": {
     "commandId": 8103436884869422,
     "dataframes": [
      "_sqldf"
     ]
    },
    "pythonIndentUnit": 4
   },
   "notebookName": "monitoring",
   "widgets": {}
  },
  "language_info": {
   "name": "python"
  }
 },
 "nbformat": 4,
 "nbformat_minor": 0
}
