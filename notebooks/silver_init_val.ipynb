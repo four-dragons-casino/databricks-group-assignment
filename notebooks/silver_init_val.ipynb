{
 "cells": [
  {
   "cell_type": "markdown",
   "metadata": {
    "application/vnd.databricks.v1+cell": {
     "cellMetadata": {},
     "inputWidgets": {},
     "nuid": "ee67bd99-a007-424c-9cfb-d6119907f193",
     "showTitle": false,
     "tableResultSettingsMap": {},
     "title": ""
    }
   },
   "source": [
    "#### Region"
   ]
  },
  {
   "cell_type": "code",
   "execution_count": 0,
   "metadata": {
    "application/vnd.databricks.v1+cell": {
     "cellMetadata": {
      "byteLimit": 2048000,
      "implicitDf": true,
      "rowLimit": 10000
     },
     "inputWidgets": {},
     "nuid": "1d52d258-f6f9-427e-9856-5e4b713383c2",
     "showTitle": false,
     "tableResultSettingsMap": {},
     "title": ""
    }
   },
   "outputs": [],
   "source": [
    "%sql\n",
    "CREATE TABLE IF NOT EXISTS retail_migration.silver.region (\n",
    "  r_regionkey INT,\n",
    "  r_name STRING,\n",
    "  r_comment STRING,\n",
    "  CONSTRAINT pk_region PRIMARY KEY (r_regionkey)\n",
    ")\n",
    "USING DELTA;\n",
    "\n",
    "INSERT OVERWRITE retail_migration.silver.region\n",
    "SELECT * FROM retail_migration.bronze.region;"
   ]
  },
  {
   "cell_type": "markdown",
   "metadata": {
    "application/vnd.databricks.v1+cell": {
     "cellMetadata": {},
     "inputWidgets": {},
     "nuid": "41f37e01-bf8d-4a9e-81d6-c8a5490cf22a",
     "showTitle": false,
     "tableResultSettingsMap": {},
     "title": ""
    }
   },
   "source": [
    "#### Nation"
   ]
  },
  {
   "cell_type": "code",
   "execution_count": 0,
   "metadata": {
    "application/vnd.databricks.v1+cell": {
     "cellMetadata": {
      "byteLimit": 2048000,
      "implicitDf": true,
      "rowLimit": 10000
     },
     "inputWidgets": {},
     "nuid": "bcf8b90c-6c60-4a61-b9ca-66ddfebcd910",
     "showTitle": false,
     "tableResultSettingsMap": {},
     "title": ""
    }
   },
   "outputs": [],
   "source": [
    "%sql\n",
    "CREATE TABLE IF NOT EXISTS retail_migration.silver.nation (\n",
    "  n_nationkey INT,\n",
    "  n_name STRING,\n",
    "  n_regionkey INT,\n",
    "  n_comment STRING,\n",
    "  CONSTRAINT pk_nation PRIMARY KEY (n_nationkey),\n",
    "  CONSTRAINT fk_nation_region FOREIGN KEY (n_regionkey)\n",
    "    REFERENCES retail_migration.silver.region (r_regionkey)\n",
    ")\n",
    "USING DELTA;\n",
    "\n",
    "INSERT OVERWRITE retail_migration.silver.nation\n",
    "SELECT * FROM retail_migration.bronze.nation;\n"
   ]
  },
  {
   "cell_type": "markdown",
   "metadata": {
    "application/vnd.databricks.v1+cell": {
     "cellMetadata": {},
     "inputWidgets": {},
     "nuid": "f85ad159-9b21-4603-a809-5ac30995f20f",
     "showTitle": false,
     "tableResultSettingsMap": {},
     "title": ""
    }
   },
   "source": [
    "#### Customer"
   ]
  },
  {
   "cell_type": "code",
   "execution_count": 0,
   "metadata": {
    "application/vnd.databricks.v1+cell": {
     "cellMetadata": {
      "byteLimit": 2048000,
      "implicitDf": true,
      "rowLimit": 10000
     },
     "inputWidgets": {},
     "nuid": "f9cfa8cc-3bcf-4bca-ae1e-6d9a6a0fd0ef",
     "showTitle": false,
     "tableResultSettingsMap": {},
     "title": ""
    }
   },
   "outputs": [],
   "source": [
    "%sql\n",
    "CREATE TABLE IF NOT EXISTS retail_migration.silver.customer (\n",
    "  c_custkey INT,\n",
    "  c_name STRING,\n",
    "  c_address STRING,\n",
    "  c_nationkey INT,\n",
    "  c_phone STRING,\n",
    "  c_acctbal DOUBLE,\n",
    "  c_mktsegment STRING,\n",
    "  c_comment STRING,\n",
    "  CONSTRAINT pk_customer PRIMARY KEY (c_custkey),\n",
    "  CONSTRAINT fk_customer_nation FOREIGN KEY (c_nationkey)\n",
    "    REFERENCES retail_migration.silver.nation (n_nationkey)\n",
    ")\n",
    "USING DELTA;\n",
    "\n",
    "INSERT OVERWRITE retail_migration.silver.customer\n",
    "SELECT * FROM retail_migration.bronze.customer;\n"
   ]
  },
  {
   "cell_type": "markdown",
   "metadata": {
    "application/vnd.databricks.v1+cell": {
     "cellMetadata": {},
     "inputWidgets": {},
     "nuid": "ef3e410e-fa12-41be-b867-e5e94f9f493c",
     "showTitle": false,
     "tableResultSettingsMap": {},
     "title": ""
    }
   },
   "source": [
    "#### Supplier"
   ]
  },
  {
   "cell_type": "code",
   "execution_count": 0,
   "metadata": {
    "application/vnd.databricks.v1+cell": {
     "cellMetadata": {
      "byteLimit": 2048000,
      "implicitDf": true,
      "rowLimit": 10000
     },
     "inputWidgets": {},
     "nuid": "820e632c-2e3c-4f55-9d13-ad64868ff893",
     "showTitle": false,
     "tableResultSettingsMap": {},
     "title": ""
    }
   },
   "outputs": [],
   "source": [
    "%sql\n",
    "CREATE TABLE IF NOT EXISTS retail_migration.silver.supplier (\n",
    "  s_suppkey INT,\n",
    "  s_name STRING,\n",
    "  s_address STRING,\n",
    "  s_nationkey INT,\n",
    "  s_phone STRING,\n",
    "  s_acctbal DOUBLE,\n",
    "  s_comment STRING,\n",
    "  CONSTRAINT pk_supplier PRIMARY KEY (s_suppkey),\n",
    "  CONSTRAINT fk_supplier_nation FOREIGN KEY (s_nationkey)\n",
    "    REFERENCES retail_migration.silver.nation (n_nationkey)\n",
    ")\n",
    "USING DELTA;\n",
    "\n",
    "INSERT OVERWRITE retail_migration.silver.supplier\n",
    "SELECT * FROM retail_migration.bronze.supplier;\n"
   ]
  },
  {
   "cell_type": "markdown",
   "metadata": {
    "application/vnd.databricks.v1+cell": {
     "cellMetadata": {},
     "inputWidgets": {},
     "nuid": "8f759512-301d-4257-9813-f22da8976474",
     "showTitle": false,
     "tableResultSettingsMap": {},
     "title": ""
    }
   },
   "source": [
    "#### Part"
   ]
  },
  {
   "cell_type": "code",
   "execution_count": 0,
   "metadata": {
    "application/vnd.databricks.v1+cell": {
     "cellMetadata": {
      "byteLimit": 2048000,
      "implicitDf": true,
      "rowLimit": 10000
     },
     "inputWidgets": {},
     "nuid": "c292b9fb-d879-4155-863b-45ce69d35e90",
     "showTitle": false,
     "tableResultSettingsMap": {},
     "title": ""
    }
   },
   "outputs": [],
   "source": [
    "%sql\n",
    "CREATE TABLE IF NOT EXISTS retail_migration.silver.part (\n",
    "  p_partkey INT,\n",
    "  p_name STRING,\n",
    "  p_mfgr STRING,\n",
    "  p_brand STRING,\n",
    "  p_type STRING,\n",
    "  p_size INT,\n",
    "  p_container STRING,\n",
    "  p_retailprice DOUBLE,\n",
    "  p_comment STRING,\n",
    "  CONSTRAINT pk_part PRIMARY KEY (p_partkey)\n",
    ")\n",
    "USING DELTA;\n",
    "\n",
    "INSERT OVERWRITE retail_migration.silver.part\n",
    "SELECT * FROM retail_migration.bronze.part;\n"
   ]
  },
  {
   "cell_type": "markdown",
   "metadata": {
    "application/vnd.databricks.v1+cell": {
     "cellMetadata": {},
     "inputWidgets": {},
     "nuid": "57a7dccc-fb17-43b5-b5fc-01e25734b08d",
     "showTitle": false,
     "tableResultSettingsMap": {},
     "title": ""
    }
   },
   "source": [
    "#### Partsupp"
   ]
  },
  {
   "cell_type": "code",
   "execution_count": 0,
   "metadata": {
    "application/vnd.databricks.v1+cell": {
     "cellMetadata": {
      "byteLimit": 2048000,
      "implicitDf": true,
      "rowLimit": 10000
     },
     "inputWidgets": {},
     "nuid": "26fcc5ec-7847-4199-acbd-456350c5389b",
     "showTitle": false,
     "tableResultSettingsMap": {},
     "title": ""
    }
   },
   "outputs": [],
   "source": [
    "%sql\n",
    "CREATE TABLE IF NOT EXISTS retail_migration.silver.partsupp (\n",
    "  ps_partkey INT,\n",
    "  ps_suppkey INT,\n",
    "  ps_availqty INT,\n",
    "  ps_supplycost DOUBLE,\n",
    "  ps_comment STRING,\n",
    "  CONSTRAINT pk_partsupp PRIMARY KEY (ps_partkey, ps_suppkey),\n",
    "  CONSTRAINT fk_partsupp_part FOREIGN KEY (ps_partkey)\n",
    "    REFERENCES retail_migration.silver.part (p_partkey),\n",
    "  CONSTRAINT fk_partsupp_supplier FOREIGN KEY (ps_suppkey)\n",
    "    REFERENCES retail_migration.silver.supplier (s_suppkey)\n",
    ")\n",
    "USING DELTA;\n",
    "\n",
    "INSERT OVERWRITE retail_migration.silver.partsupp\n",
    "SELECT * FROM retail_migration.bronze.partsupp;\n"
   ]
  },
  {
   "cell_type": "markdown",
   "metadata": {
    "application/vnd.databricks.v1+cell": {
     "cellMetadata": {},
     "inputWidgets": {},
     "nuid": "eb1b3fe5-0042-4515-8738-179819d718d2",
     "showTitle": false,
     "tableResultSettingsMap": {},
     "title": ""
    }
   },
   "source": [
    "#### Orders"
   ]
  },
  {
   "cell_type": "code",
   "execution_count": 0,
   "metadata": {
    "application/vnd.databricks.v1+cell": {
     "cellMetadata": {
      "byteLimit": 2048000,
      "implicitDf": true,
      "rowLimit": 10000
     },
     "inputWidgets": {},
     "nuid": "81fdbebc-905b-4609-bb05-4720da4fb266",
     "showTitle": false,
     "tableResultSettingsMap": {},
     "title": ""
    }
   },
   "outputs": [],
   "source": [
    "%sql\n",
    "CREATE TABLE IF NOT EXISTS retail_migration.silver.orders (\n",
    "  o_orderkey INT,\n",
    "  o_custkey INT,\n",
    "  o_orderstatus STRING,\n",
    "  o_totalprice DOUBLE,\n",
    "  o_orderdate DATE,\n",
    "  o_orderpriority STRING,\n",
    "  o_clerk STRING,\n",
    "  o_shippriority INT,\n",
    "  o_comment STRING,\n",
    "  CONSTRAINT pk_orders PRIMARY KEY (o_orderkey),\n",
    "  CONSTRAINT fk_orders_customer FOREIGN KEY (o_custkey)\n",
    "    REFERENCES retail_migration.silver.customer (c_custkey)\n",
    ")\n",
    "USING DELTA;\n",
    "\n",
    "INSERT OVERWRITE retail_migration.silver.orders\n",
    "SELECT * FROM retail_migration.bronze.orders;\n"
   ]
  },
  {
   "cell_type": "markdown",
   "metadata": {
    "application/vnd.databricks.v1+cell": {
     "cellMetadata": {},
     "inputWidgets": {},
     "nuid": "b06f0b51-e6fe-45b6-8a45-d487948c3f67",
     "showTitle": false,
     "tableResultSettingsMap": {},
     "title": ""
    }
   },
   "source": [
    "#### Lineitem"
   ]
  },
  {
   "cell_type": "code",
   "execution_count": 0,
   "metadata": {
    "application/vnd.databricks.v1+cell": {
     "cellMetadata": {
      "byteLimit": 2048000,
      "implicitDf": true,
      "rowLimit": 10000
     },
     "inputWidgets": {},
     "nuid": "a589f13e-ca3c-42f9-b7d6-cd7c37fbdcc3",
     "showTitle": false,
     "tableResultSettingsMap": {},
     "title": ""
    }
   },
   "outputs": [],
   "source": [
    "%sql\n",
    "CREATE TABLE IF NOT EXISTS retail_migration.silver.lineitem (\n",
    "  l_orderkey INT,\n",
    "  l_partkey INT,\n",
    "  l_suppkey INT,\n",
    "  l_linenumber INT,\n",
    "  l_quantity DOUBLE,\n",
    "  l_extendedprice DOUBLE,\n",
    "  l_discount DOUBLE,\n",
    "  l_tax DOUBLE,\n",
    "  l_returnflag STRING,\n",
    "  l_linestatus STRING,\n",
    "  l_shipdate DATE,\n",
    "  l_commitdate DATE,\n",
    "  l_receiptdate DATE,\n",
    "  l_shipinstruct STRING,\n",
    "  l_shipmode STRING,\n",
    "  l_comment STRING,\n",
    "  CONSTRAINT pk_lineitem PRIMARY KEY (l_orderkey, l_linenumber),\n",
    "  CONSTRAINT fk_lineitem_orders FOREIGN KEY (l_orderkey)\n",
    "    REFERENCES retail_migration.silver.orders (o_orderkey),\n",
    "  CONSTRAINT fk_lineitem_part FOREIGN KEY (l_partkey)\n",
    "    REFERENCES retail_migration.silver.part (p_partkey),\n",
    "  CONSTRAINT fk_lineitem_supplier FOREIGN KEY (l_suppkey)\n",
    "    REFERENCES retail_migration.silver.supplier (s_suppkey)\n",
    ")\n",
    "USING DELTA;\n",
    "\n",
    "INSERT OVERWRITE retail_migration.silver.lineitem\n",
    "SELECT * FROM retail_migration.bronze.lineitem;\n"
   ]
  },
  {
   "cell_type": "markdown",
   "metadata": {
    "application/vnd.databricks.v1+cell": {
     "cellMetadata": {},
     "inputWidgets": {},
     "nuid": "9b9e131d-1029-4666-a66c-f628801f5ac7",
     "showTitle": false,
     "tableResultSettingsMap": {},
     "title": ""
    }
   },
   "source": [
    "#### Validation"
   ]
  },
  {
   "cell_type": "code",
   "execution_count": 0,
   "metadata": {
    "application/vnd.databricks.v1+cell": {
     "cellMetadata": {
      "byteLimit": 2048000,
      "rowLimit": 10000
     },
     "inputWidgets": {},
     "nuid": "7bd22046-c2b5-4218-9ee5-91e765fe4fa2",
     "showTitle": false,
     "tableResultSettingsMap": {},
     "title": ""
    }
   },
   "outputs": [],
   "source": [
    "source_catalog = \"samples.tpch\""
   ]
  },
  {
   "cell_type": "code",
   "execution_count": 0,
   "metadata": {
    "application/vnd.databricks.v1+cell": {
     "cellMetadata": {
      "byteLimit": 2048000,
      "rowLimit": 10000
     },
     "inputWidgets": {},
     "nuid": "c1b9f5d6-f5fe-44a0-b0b9-bc0833e68b7c",
     "showTitle": false,
     "tableResultSettingsMap": {},
     "title": ""
    }
   },
   "outputs": [],
   "source": [
    "tables = [t.name for t in spark.catalog.listTables(source_catalog) if not t.name.startswith(\"_\")]\n",
    "print(tables)"
   ]
  },
  {
   "cell_type": "code",
   "execution_count": 0,
   "metadata": {
    "application/vnd.databricks.v1+cell": {
     "cellMetadata": {
      "byteLimit": 2048000,
      "rowLimit": 10000
     },
     "inputWidgets": {},
     "nuid": "a70f54ed-1c5b-42d1-85d7-37e3dc6f0e79",
     "showTitle": false,
     "tableResultSettingsMap": {},
     "title": ""
    }
   },
   "outputs": [],
   "source": [
    "for t in tables:\n",
    "    bronze_count = spark.table(f\"retail_migration.bronze.{t}\").count()\n",
    "    silver_count = spark.table(f\"retail_migration.silver.{t}\").count()\n",
    "    print(t, bronze_count == silver_count)"
   ]
  },
  {
   "cell_type": "markdown",
   "metadata": {
    "application/vnd.databricks.v1+cell": {
     "cellMetadata": {},
     "inputWidgets": {},
     "nuid": "6f66aed3-006b-4b35-8ea7-fb878fe36bba",
     "showTitle": false,
     "tableResultSettingsMap": {},
     "title": ""
    }
   },
   "source": [
    "**As we see all rows where copied correctly**"
   ]
  },
  {
   "cell_type": "code",
   "execution_count": 0,
   "metadata": {
    "application/vnd.databricks.v1+cell": {
     "cellMetadata": {
      "byteLimit": 2048000,
      "implicitDf": true,
      "rowLimit": 10000
     },
     "inputWidgets": {},
     "nuid": "de9bcb7a-bd86-4b92-8ea8-b670da5dd0bf",
     "showTitle": false,
     "tableResultSettingsMap": {},
     "title": ""
    }
   },
   "outputs": [],
   "source": [
    "%sql\n",
    "USE retail_migration.silver;\n",
    "SELECT current_catalog(), current_schema();\n"
   ]
  },
  {
   "cell_type": "code",
   "execution_count": 0,
   "metadata": {
    "application/vnd.databricks.v1+cell": {
     "cellMetadata": {
      "byteLimit": 2048000,
      "rowLimit": 10000
     },
     "inputWidgets": {},
     "nuid": "b1763006-1870-4da7-a6e9-05f937bc39ee",
     "showTitle": false,
     "tableResultSettingsMap": {},
     "title": ""
    }
   },
   "outputs": [],
   "source": [
    "spark.conf.get(\"spark.databricks\")"
   ]
  }
 ],
 "metadata": {
  "application/vnd.databricks.v1+notebook": {
   "computePreferences": null,
   "dashboards": [],
   "environmentMetadata": {
    "base_environment": "",
    "environment_version": "3"
   },
   "inputWidgetPreferences": null,
   "language": "python",
   "notebookMetadata": {
    "mostRecentlyExecutedCommandWithImplicitDF": {
     "commandId": 5756039358806581,
     "dataframes": [
      "_sqldf"
     ]
    },
    "pythonIndentUnit": 4
   },
   "notebookName": "silver_init_val",
   "widgets": {}
  },
  "language_info": {
   "name": "python"
  }
 },
 "nbformat": 4,
 "nbformat_minor": 0
}
